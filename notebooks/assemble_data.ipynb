{
 "cells": [
  {
   "cell_type": "code",
   "execution_count": 1,
   "id": "initial_id",
   "metadata": {
    "collapsed": true,
    "ExecuteTime": {
     "end_time": "2023-11-26T13:28:03.525025700Z",
     "start_time": "2023-11-26T13:28:03.509965800Z"
    }
   },
   "outputs": [],
   "source": [
    "import pandas as pd\n",
    "import matplotlib.pyplot as plt\n",
    "import seaborn as sns"
   ]
  },
  {
   "cell_type": "markdown",
   "source": [
    "## Meat Production Data"
   ],
   "metadata": {
    "collapsed": false
   },
   "id": "713e7c1ac302984b"
  },
  {
   "cell_type": "code",
   "execution_count": 4,
   "outputs": [],
   "source": [
    "df = pd.read_csv('../data/raw/meat_production_by_type.csv')"
   ],
   "metadata": {
    "collapsed": false,
    "ExecuteTime": {
     "end_time": "2023-11-26T13:28:29.920454Z",
     "start_time": "2023-11-26T13:28:29.812461400Z"
    }
   },
   "id": "2bc0f297d3e15508"
  },
  {
   "cell_type": "code",
   "execution_count": 5,
   "outputs": [
    {
     "data": {
      "text/plain": "            Entity Code  Year  \\\n0      Afghanistan  AFG  1961   \n1      Afghanistan  AFG  1962   \n2      Afghanistan  AFG  1963   \n3      Afghanistan  AFG  1964   \n4      Afghanistan  AFG  1965   \n...            ...  ...   ...   \n14085     Zimbabwe  ZWE  2017   \n14086     Zimbabwe  ZWE  2018   \n14087     Zimbabwe  ZWE  2019   \n14088     Zimbabwe  ZWE  2020   \n14089     Zimbabwe  ZWE  2021   \n\n       Meat, game | 00001163 || Production | 005510 || tonnes  \\\n0                                                4000.00        \n1                                                4000.00        \n2                                                5000.00        \n3                                                5000.00        \n4                                                6000.00        \n...                                                  ...        \n14085                                           35804.70        \n14086                                           35721.81        \n14087                                           35686.72        \n14088                                           35755.19        \n14089                                           35823.66        \n\n       Meat, horse | 00001097 || Production | 005510 || tonnes  \\\n0                                                    NaN         \n1                                                    NaN         \n2                                                    NaN         \n3                                                    NaN         \n4                                                    NaN         \n...                                                  ...         \n14085                                                NaN         \n14086                                                NaN         \n14087                                                NaN         \n14088                                                NaN         \n14089                                                NaN         \n\n       Meat, camel | 00001127 || Production | 005510 || tonnes  \\\n0                                                3600.00         \n1                                                4030.74         \n2                                                5031.36         \n3                                                4680.00         \n4                                                4320.00         \n...                                                  ...         \n14085                                                NaN         \n14086                                                NaN         \n14087                                                NaN         \n14088                                                NaN         \n14089                                                NaN         \n\n       Meat, sheep and goat | 00001807 || Production | 005510 || tonnes  \\\n0                                               73220.00                  \n1                                               72375.00                  \n2                                               75530.00                  \n3                                               79750.00                  \n4                                               84375.00                  \n...                                                  ...                  \n14085                                           26537.31                  \n14086                                           28097.57                  \n14087                                           32425.14                  \n14088                                           27629.93                  \n14089                                           30592.00                  \n\n       Meat, beef and buffalo | 00001806 || Production | 005510 || tonnes  \\\n0                                               43000.00                    \n1                                               45800.00                    \n2                                               47250.00                    \n3                                               48000.00                    \n4                                               48700.00                    \n...                                                  ...                    \n14085                                          609788.00                    \n14086                                          616480.00                    \n14087                                          629189.00                    \n14088                                          628746.00                    \n14089                                          806293.75                    \n\n       Meat, pig | 00001035 || Production | 005510 || tonnes  \\\n0                                                    NaN       \n1                                                    NaN       \n2                                                    NaN       \n3                                                    NaN       \n4                                                    NaN       \n...                                                  ...       \n14085                                           11479.25       \n14086                                            9555.82       \n14087                                           10648.16       \n14088                                           10104.50       \n14089                                           10777.57       \n\n       Meat, poultry | 00001808 || Production | 005510 || tonnes  \n0                                                5600.00          \n1                                                6000.00          \n2                                                6160.00          \n3                                                6400.00          \n4                                                6800.00          \n...                                                  ...          \n14085                                           92300.32          \n14086                                          103480.91          \n14087                                          114520.91          \n14088                                          111723.05          \n14089                                          113177.77          \n\n[14090 rows x 10 columns]",
      "text/html": "<div>\n<style scoped>\n    .dataframe tbody tr th:only-of-type {\n        vertical-align: middle;\n    }\n\n    .dataframe tbody tr th {\n        vertical-align: top;\n    }\n\n    .dataframe thead th {\n        text-align: right;\n    }\n</style>\n<table border=\"1\" class=\"dataframe\">\n  <thead>\n    <tr style=\"text-align: right;\">\n      <th></th>\n      <th>Entity</th>\n      <th>Code</th>\n      <th>Year</th>\n      <th>Meat, game | 00001163 || Production | 005510 || tonnes</th>\n      <th>Meat, horse | 00001097 || Production | 005510 || tonnes</th>\n      <th>Meat, camel | 00001127 || Production | 005510 || tonnes</th>\n      <th>Meat, sheep and goat | 00001807 || Production | 005510 || tonnes</th>\n      <th>Meat, beef and buffalo | 00001806 || Production | 005510 || tonnes</th>\n      <th>Meat, pig | 00001035 || Production | 005510 || tonnes</th>\n      <th>Meat, poultry | 00001808 || Production | 005510 || tonnes</th>\n    </tr>\n  </thead>\n  <tbody>\n    <tr>\n      <th>0</th>\n      <td>Afghanistan</td>\n      <td>AFG</td>\n      <td>1961</td>\n      <td>4000.00</td>\n      <td>NaN</td>\n      <td>3600.00</td>\n      <td>73220.00</td>\n      <td>43000.00</td>\n      <td>NaN</td>\n      <td>5600.00</td>\n    </tr>\n    <tr>\n      <th>1</th>\n      <td>Afghanistan</td>\n      <td>AFG</td>\n      <td>1962</td>\n      <td>4000.00</td>\n      <td>NaN</td>\n      <td>4030.74</td>\n      <td>72375.00</td>\n      <td>45800.00</td>\n      <td>NaN</td>\n      <td>6000.00</td>\n    </tr>\n    <tr>\n      <th>2</th>\n      <td>Afghanistan</td>\n      <td>AFG</td>\n      <td>1963</td>\n      <td>5000.00</td>\n      <td>NaN</td>\n      <td>5031.36</td>\n      <td>75530.00</td>\n      <td>47250.00</td>\n      <td>NaN</td>\n      <td>6160.00</td>\n    </tr>\n    <tr>\n      <th>3</th>\n      <td>Afghanistan</td>\n      <td>AFG</td>\n      <td>1964</td>\n      <td>5000.00</td>\n      <td>NaN</td>\n      <td>4680.00</td>\n      <td>79750.00</td>\n      <td>48000.00</td>\n      <td>NaN</td>\n      <td>6400.00</td>\n    </tr>\n    <tr>\n      <th>4</th>\n      <td>Afghanistan</td>\n      <td>AFG</td>\n      <td>1965</td>\n      <td>6000.00</td>\n      <td>NaN</td>\n      <td>4320.00</td>\n      <td>84375.00</td>\n      <td>48700.00</td>\n      <td>NaN</td>\n      <td>6800.00</td>\n    </tr>\n    <tr>\n      <th>...</th>\n      <td>...</td>\n      <td>...</td>\n      <td>...</td>\n      <td>...</td>\n      <td>...</td>\n      <td>...</td>\n      <td>...</td>\n      <td>...</td>\n      <td>...</td>\n      <td>...</td>\n    </tr>\n    <tr>\n      <th>14085</th>\n      <td>Zimbabwe</td>\n      <td>ZWE</td>\n      <td>2017</td>\n      <td>35804.70</td>\n      <td>NaN</td>\n      <td>NaN</td>\n      <td>26537.31</td>\n      <td>609788.00</td>\n      <td>11479.25</td>\n      <td>92300.32</td>\n    </tr>\n    <tr>\n      <th>14086</th>\n      <td>Zimbabwe</td>\n      <td>ZWE</td>\n      <td>2018</td>\n      <td>35721.81</td>\n      <td>NaN</td>\n      <td>NaN</td>\n      <td>28097.57</td>\n      <td>616480.00</td>\n      <td>9555.82</td>\n      <td>103480.91</td>\n    </tr>\n    <tr>\n      <th>14087</th>\n      <td>Zimbabwe</td>\n      <td>ZWE</td>\n      <td>2019</td>\n      <td>35686.72</td>\n      <td>NaN</td>\n      <td>NaN</td>\n      <td>32425.14</td>\n      <td>629189.00</td>\n      <td>10648.16</td>\n      <td>114520.91</td>\n    </tr>\n    <tr>\n      <th>14088</th>\n      <td>Zimbabwe</td>\n      <td>ZWE</td>\n      <td>2020</td>\n      <td>35755.19</td>\n      <td>NaN</td>\n      <td>NaN</td>\n      <td>27629.93</td>\n      <td>628746.00</td>\n      <td>10104.50</td>\n      <td>111723.05</td>\n    </tr>\n    <tr>\n      <th>14089</th>\n      <td>Zimbabwe</td>\n      <td>ZWE</td>\n      <td>2021</td>\n      <td>35823.66</td>\n      <td>NaN</td>\n      <td>NaN</td>\n      <td>30592.00</td>\n      <td>806293.75</td>\n      <td>10777.57</td>\n      <td>113177.77</td>\n    </tr>\n  </tbody>\n</table>\n<p>14090 rows × 10 columns</p>\n</div>"
     },
     "execution_count": 5,
     "metadata": {},
     "output_type": "execute_result"
    }
   ],
   "source": [
    "df"
   ],
   "metadata": {
    "collapsed": false,
    "ExecuteTime": {
     "end_time": "2023-11-26T13:28:32.643640100Z",
     "start_time": "2023-11-26T13:28:32.552416800Z"
    }
   },
   "id": "74b1073b9128eac8"
  },
  {
   "cell_type": "code",
   "execution_count": 31,
   "outputs": [],
   "source": [
    "# Lista de entidades que son continentes, regiones o categorías de ingresos y que deben ser eliminadas\n",
    "non_country_entities = [\n",
    "    \"Africa\", \"Africa (FAO)\", \"Americas (FAO)\", \"Asia\", \"Asia (FAO)\", \"Europe\",\n",
    "    \"Europe (FAO)\", \"Oceania\", \"Oceania (FAO)\", \"World\", \"European Union (27)\",\n",
    "    \"European Union (27) (FAO)\", \"Belgium-Luxembourg (FAO)\", \"High-income countries\",\n",
    "    \"Land Locked Developing Countries (FAO)\", \"Least Developed Countries (FAO)\",\n",
    "    \"Low Income Food Deficit Countries (FAO)\", \"Low-income countries\",\n",
    "    \"Lower-middle-income countries\", \"Net Food Importing Developing Countries (FAO)\",\n",
    "    \"Small Island Developing States (FAO)\", \"Upper-middle-income countries\",\n",
    "    \"Eastern Africa (FAO)\", \"Eastern Asia (FAO)\", \"Eastern Europe (FAO)\",\n",
    "    \"Middle Africa (FAO)\", \"Northern Africa (FAO)\", \"Northern America (FAO)\",\n",
    "    \"Northern Europe (FAO)\", \"South America\", \"South America (FAO)\", \"South-eastern Asia (FAO)\",\n",
    "    \"Southern Africa (FAO)\", \"Southern Asia (FAO)\", \"Southern Europe (FAO)\",\n",
    "    \"Western Africa (FAO)\", \"Western Asia (FAO)\", \"Western Europe (FAO)\",\n",
    "    \"Caribbean (FAO)\", \"Central America (FAO)\", \"Central Asia (FAO)\", \"Melanesia\",\n",
    "    \"Micronesia (FAO)\", \"Polynesia\"\n",
    "]\n",
    "\n",
    "# Filtrando el conjunto de datos para eliminar estas entidades\n",
    "df_no_continents = df[~df['Entity'].isin(non_country_entities)]"
   ],
   "metadata": {
    "collapsed": false,
    "ExecuteTime": {
     "end_time": "2023-11-26T13:42:19.019449200Z",
     "start_time": "2023-11-26T13:42:18.972942500Z"
    }
   },
   "id": "d626985000375d02"
  },
  {
   "cell_type": "code",
   "execution_count": 44,
   "outputs": [
    {
     "data": {
      "text/plain": "           Country  Year  Game Meat Production (tonnes)  \\\n0      Afghanistan  1961                        4000.00   \n1      Afghanistan  1962                        4000.00   \n2      Afghanistan  1963                        5000.00   \n3      Afghanistan  1964                        5000.00   \n4      Afghanistan  1965                        6000.00   \n...            ...   ...                            ...   \n14085     Zimbabwe  2017                       35804.70   \n14086     Zimbabwe  2018                       35721.81   \n14087     Zimbabwe  2019                       35686.72   \n14088     Zimbabwe  2020                       35755.19   \n14089     Zimbabwe  2021                       35823.66   \n\n       Horse Meat Production (tonnes)  Camel Meat Production (tonnes)  \\\n0                                 NaN                         3600.00   \n1                                 NaN                         4030.74   \n2                                 NaN                         5031.36   \n3                                 NaN                         4680.00   \n4                                 NaN                         4320.00   \n...                               ...                             ...   \n14085                             NaN                             NaN   \n14086                             NaN                             NaN   \n14087                             NaN                             NaN   \n14088                             NaN                             NaN   \n14089                             NaN                             NaN   \n\n       Sheep and Goat Meat Production (tonnes)  \\\n0                                     73220.00   \n1                                     72375.00   \n2                                     75530.00   \n3                                     79750.00   \n4                                     84375.00   \n...                                        ...   \n14085                                 26537.31   \n14086                                 28097.57   \n14087                                 32425.14   \n14088                                 27629.93   \n14089                                 30592.00   \n\n       Beef and Buffalo Meat Production (tonnes)  Pigmeat Production (tonnes)  \\\n0                                       43000.00                          NaN   \n1                                       45800.00                          NaN   \n2                                       47250.00                          NaN   \n3                                       48000.00                          NaN   \n4                                       48700.00                          NaN   \n...                                          ...                          ...   \n14085                                  609788.00                     11479.25   \n14086                                  616480.00                      9555.82   \n14087                                  629189.00                     10648.16   \n14088                                  628746.00                     10104.50   \n14089                                  806293.75                     10777.57   \n\n       Poultry Meat Production (tonnes)  \n0                               5600.00  \n1                               6000.00  \n2                               6160.00  \n3                               6400.00  \n4                               6800.00  \n...                                 ...  \n14085                          92300.32  \n14086                         103480.91  \n14087                         114520.91  \n14088                         111723.05  \n14089                         113177.77  \n\n[11459 rows x 9 columns]",
      "text/html": "<div>\n<style scoped>\n    .dataframe tbody tr th:only-of-type {\n        vertical-align: middle;\n    }\n\n    .dataframe tbody tr th {\n        vertical-align: top;\n    }\n\n    .dataframe thead th {\n        text-align: right;\n    }\n</style>\n<table border=\"1\" class=\"dataframe\">\n  <thead>\n    <tr style=\"text-align: right;\">\n      <th></th>\n      <th>Country</th>\n      <th>Year</th>\n      <th>Game Meat Production (tonnes)</th>\n      <th>Horse Meat Production (tonnes)</th>\n      <th>Camel Meat Production (tonnes)</th>\n      <th>Sheep and Goat Meat Production (tonnes)</th>\n      <th>Beef and Buffalo Meat Production (tonnes)</th>\n      <th>Pigmeat Production (tonnes)</th>\n      <th>Poultry Meat Production (tonnes)</th>\n    </tr>\n  </thead>\n  <tbody>\n    <tr>\n      <th>0</th>\n      <td>Afghanistan</td>\n      <td>1961</td>\n      <td>4000.00</td>\n      <td>NaN</td>\n      <td>3600.00</td>\n      <td>73220.00</td>\n      <td>43000.00</td>\n      <td>NaN</td>\n      <td>5600.00</td>\n    </tr>\n    <tr>\n      <th>1</th>\n      <td>Afghanistan</td>\n      <td>1962</td>\n      <td>4000.00</td>\n      <td>NaN</td>\n      <td>4030.74</td>\n      <td>72375.00</td>\n      <td>45800.00</td>\n      <td>NaN</td>\n      <td>6000.00</td>\n    </tr>\n    <tr>\n      <th>2</th>\n      <td>Afghanistan</td>\n      <td>1963</td>\n      <td>5000.00</td>\n      <td>NaN</td>\n      <td>5031.36</td>\n      <td>75530.00</td>\n      <td>47250.00</td>\n      <td>NaN</td>\n      <td>6160.00</td>\n    </tr>\n    <tr>\n      <th>3</th>\n      <td>Afghanistan</td>\n      <td>1964</td>\n      <td>5000.00</td>\n      <td>NaN</td>\n      <td>4680.00</td>\n      <td>79750.00</td>\n      <td>48000.00</td>\n      <td>NaN</td>\n      <td>6400.00</td>\n    </tr>\n    <tr>\n      <th>4</th>\n      <td>Afghanistan</td>\n      <td>1965</td>\n      <td>6000.00</td>\n      <td>NaN</td>\n      <td>4320.00</td>\n      <td>84375.00</td>\n      <td>48700.00</td>\n      <td>NaN</td>\n      <td>6800.00</td>\n    </tr>\n    <tr>\n      <th>...</th>\n      <td>...</td>\n      <td>...</td>\n      <td>...</td>\n      <td>...</td>\n      <td>...</td>\n      <td>...</td>\n      <td>...</td>\n      <td>...</td>\n      <td>...</td>\n    </tr>\n    <tr>\n      <th>14085</th>\n      <td>Zimbabwe</td>\n      <td>2017</td>\n      <td>35804.70</td>\n      <td>NaN</td>\n      <td>NaN</td>\n      <td>26537.31</td>\n      <td>609788.00</td>\n      <td>11479.25</td>\n      <td>92300.32</td>\n    </tr>\n    <tr>\n      <th>14086</th>\n      <td>Zimbabwe</td>\n      <td>2018</td>\n      <td>35721.81</td>\n      <td>NaN</td>\n      <td>NaN</td>\n      <td>28097.57</td>\n      <td>616480.00</td>\n      <td>9555.82</td>\n      <td>103480.91</td>\n    </tr>\n    <tr>\n      <th>14087</th>\n      <td>Zimbabwe</td>\n      <td>2019</td>\n      <td>35686.72</td>\n      <td>NaN</td>\n      <td>NaN</td>\n      <td>32425.14</td>\n      <td>629189.00</td>\n      <td>10648.16</td>\n      <td>114520.91</td>\n    </tr>\n    <tr>\n      <th>14088</th>\n      <td>Zimbabwe</td>\n      <td>2020</td>\n      <td>35755.19</td>\n      <td>NaN</td>\n      <td>NaN</td>\n      <td>27629.93</td>\n      <td>628746.00</td>\n      <td>10104.50</td>\n      <td>111723.05</td>\n    </tr>\n    <tr>\n      <th>14089</th>\n      <td>Zimbabwe</td>\n      <td>2021</td>\n      <td>35823.66</td>\n      <td>NaN</td>\n      <td>NaN</td>\n      <td>30592.00</td>\n      <td>806293.75</td>\n      <td>10777.57</td>\n      <td>113177.77</td>\n    </tr>\n  </tbody>\n</table>\n<p>11459 rows × 9 columns</p>\n</div>"
     },
     "execution_count": 44,
     "metadata": {},
     "output_type": "execute_result"
    }
   ],
   "source": [
    "# Renombrando las columnas\n",
    "columns_renamed = {\n",
    "    'Entity': 'Country',\n",
    "    'Meat, game | 00001163 || Production | 005510 || tonnes': 'Game Meat Production (tonnes)',\n",
    "    'Meat, horse | 00001097 || Production | 005510 || tonnes': 'Horse Meat Production (tonnes)',\n",
    "    'Meat, camel | 00001127 || Production | 005510 || tonnes': 'Camel Meat Production (tonnes)',\n",
    "    'Meat, sheep and goat | 00001807 || Production | 005510 || tonnes': 'Sheep and Goat Meat Production (tonnes)',\n",
    "    'Meat, beef and buffalo | 00001806 || Production | 005510 || tonnes': 'Beef and Buffalo Meat Production (tonnes)',\n",
    "    'Meat, pig | 00001035 || Production | 005510 || tonnes': 'Pigmeat Production (tonnes)',\n",
    "    'Meat, poultry | 00001808 || Production | 005510 || tonnes': 'Poultry Meat Production (tonnes)'\n",
    "}\n",
    "\n",
    "production_data = df_no_continents.rename(columns=columns_renamed)\n",
    "\n",
    "# Eliminando la columna 'Code'\n",
    "production_data = production_data.drop(columns=['Code'])\n",
    "\n",
    "production_data"
   ],
   "metadata": {
    "collapsed": false,
    "ExecuteTime": {
     "end_time": "2023-11-26T13:51:59.652422700Z",
     "start_time": "2023-11-26T13:51:59.607606400Z"
    }
   },
   "id": "93596e3d9064910a"
  },
  {
   "cell_type": "code",
   "execution_count": 45,
   "outputs": [
    {
     "data": {
      "text/plain": "           Country  Year  Game Meat Production (tonnes)  \\\n0      Afghanistan  1961                        4000.00   \n1      Afghanistan  1962                        4000.00   \n2      Afghanistan  1963                        5000.00   \n3      Afghanistan  1964                        5000.00   \n4      Afghanistan  1965                        6000.00   \n...            ...   ...                            ...   \n14085     Zimbabwe  2017                       35804.70   \n14086     Zimbabwe  2018                       35721.81   \n14087     Zimbabwe  2019                       35686.72   \n14088     Zimbabwe  2020                       35755.19   \n14089     Zimbabwe  2021                       35823.66   \n\n       Horse Meat Production (tonnes)  Camel Meat Production (tonnes)  \\\n0                                 NaN                         3600.00   \n1                                 NaN                         4030.74   \n2                                 NaN                         5031.36   \n3                                 NaN                         4680.00   \n4                                 NaN                         4320.00   \n...                               ...                             ...   \n14085                             NaN                             NaN   \n14086                             NaN                             NaN   \n14087                             NaN                             NaN   \n14088                             NaN                             NaN   \n14089                             NaN                             NaN   \n\n       Sheep and Goat Meat Production (tonnes)  \\\n0                                     73220.00   \n1                                     72375.00   \n2                                     75530.00   \n3                                     79750.00   \n4                                     84375.00   \n...                                        ...   \n14085                                 26537.31   \n14086                                 28097.57   \n14087                                 32425.14   \n14088                                 27629.93   \n14089                                 30592.00   \n\n       Beef and Buffalo Meat Production (tonnes)  Pigmeat Production (tonnes)  \\\n0                                       43000.00                          NaN   \n1                                       45800.00                          NaN   \n2                                       47250.00                          NaN   \n3                                       48000.00                          NaN   \n4                                       48700.00                          NaN   \n...                                          ...                          ...   \n14085                                  609788.00                     11479.25   \n14086                                  616480.00                      9555.82   \n14087                                  629189.00                     10648.16   \n14088                                  628746.00                     10104.50   \n14089                                  806293.75                     10777.57   \n\n       Poultry Meat Production (tonnes)  Total Meat Production (tonnes)  \n0                               5600.00                       129420.00  \n1                               6000.00                       132205.74  \n2                               6160.00                       138971.36  \n3                               6400.00                       143830.00  \n4                               6800.00                       150195.00  \n...                                 ...                             ...  \n14085                          92300.32                       775909.58  \n14086                         103480.91                       793336.11  \n14087                         114520.91                       822469.93  \n14088                         111723.05                       813958.67  \n14089                         113177.77                       996664.75  \n\n[11459 rows x 10 columns]",
      "text/html": "<div>\n<style scoped>\n    .dataframe tbody tr th:only-of-type {\n        vertical-align: middle;\n    }\n\n    .dataframe tbody tr th {\n        vertical-align: top;\n    }\n\n    .dataframe thead th {\n        text-align: right;\n    }\n</style>\n<table border=\"1\" class=\"dataframe\">\n  <thead>\n    <tr style=\"text-align: right;\">\n      <th></th>\n      <th>Country</th>\n      <th>Year</th>\n      <th>Game Meat Production (tonnes)</th>\n      <th>Horse Meat Production (tonnes)</th>\n      <th>Camel Meat Production (tonnes)</th>\n      <th>Sheep and Goat Meat Production (tonnes)</th>\n      <th>Beef and Buffalo Meat Production (tonnes)</th>\n      <th>Pigmeat Production (tonnes)</th>\n      <th>Poultry Meat Production (tonnes)</th>\n      <th>Total Meat Production (tonnes)</th>\n    </tr>\n  </thead>\n  <tbody>\n    <tr>\n      <th>0</th>\n      <td>Afghanistan</td>\n      <td>1961</td>\n      <td>4000.00</td>\n      <td>NaN</td>\n      <td>3600.00</td>\n      <td>73220.00</td>\n      <td>43000.00</td>\n      <td>NaN</td>\n      <td>5600.00</td>\n      <td>129420.00</td>\n    </tr>\n    <tr>\n      <th>1</th>\n      <td>Afghanistan</td>\n      <td>1962</td>\n      <td>4000.00</td>\n      <td>NaN</td>\n      <td>4030.74</td>\n      <td>72375.00</td>\n      <td>45800.00</td>\n      <td>NaN</td>\n      <td>6000.00</td>\n      <td>132205.74</td>\n    </tr>\n    <tr>\n      <th>2</th>\n      <td>Afghanistan</td>\n      <td>1963</td>\n      <td>5000.00</td>\n      <td>NaN</td>\n      <td>5031.36</td>\n      <td>75530.00</td>\n      <td>47250.00</td>\n      <td>NaN</td>\n      <td>6160.00</td>\n      <td>138971.36</td>\n    </tr>\n    <tr>\n      <th>3</th>\n      <td>Afghanistan</td>\n      <td>1964</td>\n      <td>5000.00</td>\n      <td>NaN</td>\n      <td>4680.00</td>\n      <td>79750.00</td>\n      <td>48000.00</td>\n      <td>NaN</td>\n      <td>6400.00</td>\n      <td>143830.00</td>\n    </tr>\n    <tr>\n      <th>4</th>\n      <td>Afghanistan</td>\n      <td>1965</td>\n      <td>6000.00</td>\n      <td>NaN</td>\n      <td>4320.00</td>\n      <td>84375.00</td>\n      <td>48700.00</td>\n      <td>NaN</td>\n      <td>6800.00</td>\n      <td>150195.00</td>\n    </tr>\n    <tr>\n      <th>...</th>\n      <td>...</td>\n      <td>...</td>\n      <td>...</td>\n      <td>...</td>\n      <td>...</td>\n      <td>...</td>\n      <td>...</td>\n      <td>...</td>\n      <td>...</td>\n      <td>...</td>\n    </tr>\n    <tr>\n      <th>14085</th>\n      <td>Zimbabwe</td>\n      <td>2017</td>\n      <td>35804.70</td>\n      <td>NaN</td>\n      <td>NaN</td>\n      <td>26537.31</td>\n      <td>609788.00</td>\n      <td>11479.25</td>\n      <td>92300.32</td>\n      <td>775909.58</td>\n    </tr>\n    <tr>\n      <th>14086</th>\n      <td>Zimbabwe</td>\n      <td>2018</td>\n      <td>35721.81</td>\n      <td>NaN</td>\n      <td>NaN</td>\n      <td>28097.57</td>\n      <td>616480.00</td>\n      <td>9555.82</td>\n      <td>103480.91</td>\n      <td>793336.11</td>\n    </tr>\n    <tr>\n      <th>14087</th>\n      <td>Zimbabwe</td>\n      <td>2019</td>\n      <td>35686.72</td>\n      <td>NaN</td>\n      <td>NaN</td>\n      <td>32425.14</td>\n      <td>629189.00</td>\n      <td>10648.16</td>\n      <td>114520.91</td>\n      <td>822469.93</td>\n    </tr>\n    <tr>\n      <th>14088</th>\n      <td>Zimbabwe</td>\n      <td>2020</td>\n      <td>35755.19</td>\n      <td>NaN</td>\n      <td>NaN</td>\n      <td>27629.93</td>\n      <td>628746.00</td>\n      <td>10104.50</td>\n      <td>111723.05</td>\n      <td>813958.67</td>\n    </tr>\n    <tr>\n      <th>14089</th>\n      <td>Zimbabwe</td>\n      <td>2021</td>\n      <td>35823.66</td>\n      <td>NaN</td>\n      <td>NaN</td>\n      <td>30592.00</td>\n      <td>806293.75</td>\n      <td>10777.57</td>\n      <td>113177.77</td>\n      <td>996664.75</td>\n    </tr>\n  </tbody>\n</table>\n<p>11459 rows × 10 columns</p>\n</div>"
     },
     "execution_count": 45,
     "metadata": {},
     "output_type": "execute_result"
    }
   ],
   "source": [
    "production_data['Total Meat Production (tonnes)'] = production_data[\n",
    "    ['Game Meat Production (tonnes)',\n",
    "     'Horse Meat Production (tonnes)',\n",
    "     'Camel Meat Production (tonnes)',\n",
    "     'Sheep and Goat Meat Production (tonnes)',\n",
    "     'Beef and Buffalo Meat Production (tonnes)',\n",
    "     'Pigmeat Production (tonnes)',\n",
    "     'Poultry Meat Production (tonnes)']\n",
    "].sum(axis=1)\n",
    "\n",
    "production_data"
   ],
   "metadata": {
    "collapsed": false,
    "ExecuteTime": {
     "end_time": "2023-11-26T13:52:22.379354300Z",
     "start_time": "2023-11-26T13:52:22.347210100Z"
    }
   },
   "id": "4e5e49ef0c6876d7"
  },
  {
   "cell_type": "code",
   "execution_count": 46,
   "outputs": [
    {
     "name": "stdout",
     "output_type": "stream",
     "text": [
      "<class 'pandas.core.frame.DataFrame'>\n",
      "Index: 11459 entries, 0 to 14089\n",
      "Data columns (total 10 columns):\n",
      " #   Column                                     Non-Null Count  Dtype  \n",
      "---  ------                                     --------------  -----  \n",
      " 0   Country                                    11459 non-null  object \n",
      " 1   Year                                       11459 non-null  int64  \n",
      " 2   Game Meat Production (tonnes)              3562 non-null   float64\n",
      " 3   Horse Meat Production (tonnes)             4326 non-null   float64\n",
      " 4   Camel Meat Production (tonnes)             2131 non-null   float64\n",
      " 5   Sheep and Goat Meat Production (tonnes)    10907 non-null  float64\n",
      " 6   Beef and Buffalo Meat Production (tonnes)  11209 non-null  float64\n",
      " 7   Pigmeat Production (tonnes)                10267 non-null  float64\n",
      " 8   Poultry Meat Production (tonnes)           11323 non-null  float64\n",
      " 9   Total Meat Production (tonnes)             11459 non-null  float64\n",
      "dtypes: float64(8), int64(1), object(1)\n",
      "memory usage: 984.8+ KB\n"
     ]
    }
   ],
   "source": [
    "production_data.info()"
   ],
   "metadata": {
    "collapsed": false,
    "ExecuteTime": {
     "end_time": "2023-11-26T13:52:36.919894900Z",
     "start_time": "2023-11-26T13:52:36.895437400Z"
    }
   },
   "id": "e0aca90bc22858e8"
  },
  {
   "cell_type": "markdown",
   "source": [
    "## Meat Consumption Data"
   ],
   "metadata": {
    "collapsed": false
   },
   "id": "8f06f3623188d7c6"
  },
  {
   "cell_type": "code",
   "execution_count": 50,
   "outputs": [],
   "source": [
    "df_consume = pd.read_csv(\"../data/raw/per-capita-meat-consumption-by-type-kilograms-per-year.csv\")"
   ],
   "metadata": {
    "collapsed": false,
    "ExecuteTime": {
     "end_time": "2023-11-26T14:00:15.490388200Z",
     "start_time": "2023-11-26T14:00:15.458600900Z"
    }
   },
   "id": "487c10cc87d56c51"
  },
  {
   "cell_type": "code",
   "execution_count": 51,
   "outputs": [
    {
     "data": {
      "text/plain": "           Country  Year  Other Meat Consumption (kg/capita/year)  \\\n0      Afghanistan  1961                                 0.865845   \n1      Afghanistan  1962                                 0.896969   \n2      Afghanistan  1963                                 1.091328   \n3      Afghanistan  1964                                 1.030673   \n4      Afghanistan  1965                                 1.082147   \n...            ...   ...                                      ...   \n12355     Zimbabwe  2016                                 2.601678   \n12356     Zimbabwe  2017                                 2.499662   \n12357     Zimbabwe  2018                                 2.388530   \n12358     Zimbabwe  2019                                 2.375002   \n12359     Zimbabwe  2020                                 2.333349   \n\n       Sheep and Goat Meat Consumption (kg/capita/year)  \\\n0                                              8.332486   \n1                                              8.072717   \n2                                              8.251259   \n3                                              8.520909   \n4                                              8.820517   \n...                                                 ...   \n12355                                          1.436748   \n12356                                          1.804775   \n12357                                          1.822573   \n12358                                          1.774098   \n12359                                          1.764239   \n\n       Beef Meat Consumption (kg/capita/year)  \\\n0                                    4.889479   \n1                                    5.106605   \n2                                    5.160862   \n3                                    5.132955   \n4                                    5.094256   \n...                                       ...   \n12355                               43.684890   \n12356                               41.403670   \n12357                               40.988712   \n12358                               40.975937   \n12359                               40.122208   \n\n       Pig Meat Consumption (kg/capita/year)  \\\n0                                        NaN   \n1                                        NaN   \n2                                        NaN   \n3                                        NaN   \n4                                        NaN   \n...                                      ...   \n12355                               1.572656   \n12356                               0.743143   \n12357                               0.517995   \n12358                               0.686748   \n12359                               0.644991   \n\n       Poultry Meat Consumption (kg/capita/year)  \n0                                       0.641744  \n1                                       0.672726  \n2                                       0.673156  \n3                                       0.683714  \n4                                       0.714625  \n...                                          ...  \n12355                                   5.174232  \n12356                                   5.086185  \n12357                                   4.383768  \n12358                                   4.473397  \n12359                                   4.382142  \n\n[9892 rows x 7 columns]",
      "text/html": "<div>\n<style scoped>\n    .dataframe tbody tr th:only-of-type {\n        vertical-align: middle;\n    }\n\n    .dataframe tbody tr th {\n        vertical-align: top;\n    }\n\n    .dataframe thead th {\n        text-align: right;\n    }\n</style>\n<table border=\"1\" class=\"dataframe\">\n  <thead>\n    <tr style=\"text-align: right;\">\n      <th></th>\n      <th>Country</th>\n      <th>Year</th>\n      <th>Other Meat Consumption (kg/capita/year)</th>\n      <th>Sheep and Goat Meat Consumption (kg/capita/year)</th>\n      <th>Beef Meat Consumption (kg/capita/year)</th>\n      <th>Pig Meat Consumption (kg/capita/year)</th>\n      <th>Poultry Meat Consumption (kg/capita/year)</th>\n    </tr>\n  </thead>\n  <tbody>\n    <tr>\n      <th>0</th>\n      <td>Afghanistan</td>\n      <td>1961</td>\n      <td>0.865845</td>\n      <td>8.332486</td>\n      <td>4.889479</td>\n      <td>NaN</td>\n      <td>0.641744</td>\n    </tr>\n    <tr>\n      <th>1</th>\n      <td>Afghanistan</td>\n      <td>1962</td>\n      <td>0.896969</td>\n      <td>8.072717</td>\n      <td>5.106605</td>\n      <td>NaN</td>\n      <td>0.672726</td>\n    </tr>\n    <tr>\n      <th>2</th>\n      <td>Afghanistan</td>\n      <td>1963</td>\n      <td>1.091328</td>\n      <td>8.251259</td>\n      <td>5.160862</td>\n      <td>NaN</td>\n      <td>0.673156</td>\n    </tr>\n    <tr>\n      <th>3</th>\n      <td>Afghanistan</td>\n      <td>1964</td>\n      <td>1.030673</td>\n      <td>8.520909</td>\n      <td>5.132955</td>\n      <td>NaN</td>\n      <td>0.683714</td>\n    </tr>\n    <tr>\n      <th>4</th>\n      <td>Afghanistan</td>\n      <td>1965</td>\n      <td>1.082147</td>\n      <td>8.820517</td>\n      <td>5.094256</td>\n      <td>NaN</td>\n      <td>0.714625</td>\n    </tr>\n    <tr>\n      <th>...</th>\n      <td>...</td>\n      <td>...</td>\n      <td>...</td>\n      <td>...</td>\n      <td>...</td>\n      <td>...</td>\n      <td>...</td>\n    </tr>\n    <tr>\n      <th>12355</th>\n      <td>Zimbabwe</td>\n      <td>2016</td>\n      <td>2.601678</td>\n      <td>1.436748</td>\n      <td>43.684890</td>\n      <td>1.572656</td>\n      <td>5.174232</td>\n    </tr>\n    <tr>\n      <th>12356</th>\n      <td>Zimbabwe</td>\n      <td>2017</td>\n      <td>2.499662</td>\n      <td>1.804775</td>\n      <td>41.403670</td>\n      <td>0.743143</td>\n      <td>5.086185</td>\n    </tr>\n    <tr>\n      <th>12357</th>\n      <td>Zimbabwe</td>\n      <td>2018</td>\n      <td>2.388530</td>\n      <td>1.822573</td>\n      <td>40.988712</td>\n      <td>0.517995</td>\n      <td>4.383768</td>\n    </tr>\n    <tr>\n      <th>12358</th>\n      <td>Zimbabwe</td>\n      <td>2019</td>\n      <td>2.375002</td>\n      <td>1.774098</td>\n      <td>40.975937</td>\n      <td>0.686748</td>\n      <td>4.473397</td>\n    </tr>\n    <tr>\n      <th>12359</th>\n      <td>Zimbabwe</td>\n      <td>2020</td>\n      <td>2.333349</td>\n      <td>1.764239</td>\n      <td>40.122208</td>\n      <td>0.644991</td>\n      <td>4.382142</td>\n    </tr>\n  </tbody>\n</table>\n<p>9892 rows × 7 columns</p>\n</div>"
     },
     "execution_count": 51,
     "metadata": {},
     "output_type": "execute_result"
    }
   ],
   "source": [
    "df_consume_filtered = df_consume[~df_consume['Entity'].isin(non_country_entities)]\n",
    "\n",
    "columns_renamed_consumption = {\n",
    "    'Entity': 'Country',\n",
    "    'Meat, Other | 00002735 || Food available for consumption | 0645pc || kilograms per year per capita': 'Other Meat Consumption (kg/capita/year)',\n",
    "    'Meat, sheep and goat | 00002732 || Food available for consumption | 0645pc || kilograms per year per capita': 'Sheep and Goat Meat Consumption (kg/capita/year)',\n",
    "    'Meat, beef | 00002731 || Food available for consumption | 0645pc || kilograms per year per capita': 'Beef Meat Consumption (kg/capita/year)',\n",
    "    'Meat, pig | 00002733 || Food available for consumption | 0645pc || kilograms per year per capita': 'Pig Meat Consumption (kg/capita/year)',\n",
    "    'Meat, poultry | 00002734 || Food available for consumption | 0645pc || kilograms per year per capita': 'Poultry Meat Consumption (kg/capita/year)',\n",
    "}\n",
    "\n",
    "consumption_data = df_consume_filtered.rename(columns=columns_renamed_consumption)\n",
    "consumption_data.drop(\"Code\", axis=1, inplace=True)\n",
    "consumption_data\n"
   ],
   "metadata": {
    "collapsed": false,
    "ExecuteTime": {
     "end_time": "2023-11-26T14:00:16.826084900Z",
     "start_time": "2023-11-26T14:00:16.794544400Z"
    }
   },
   "id": "b2818a6743263372"
  },
  {
   "cell_type": "code",
   "execution_count": 53,
   "outputs": [
    {
     "data": {
      "text/plain": "           Country  Year  Other Meat Consumption (kg/capita/year)  \\\n0      Afghanistan  1961                                 0.865845   \n1      Afghanistan  1962                                 0.896969   \n2      Afghanistan  1963                                 1.091328   \n3      Afghanistan  1964                                 1.030673   \n4      Afghanistan  1965                                 1.082147   \n...            ...   ...                                      ...   \n12355     Zimbabwe  2016                                 2.601678   \n12356     Zimbabwe  2017                                 2.499662   \n12357     Zimbabwe  2018                                 2.388530   \n12358     Zimbabwe  2019                                 2.375002   \n12359     Zimbabwe  2020                                 2.333349   \n\n       Sheep and Goat Meat Consumption (kg/capita/year)  \\\n0                                              8.332486   \n1                                              8.072717   \n2                                              8.251259   \n3                                              8.520909   \n4                                              8.820517   \n...                                                 ...   \n12355                                          1.436748   \n12356                                          1.804775   \n12357                                          1.822573   \n12358                                          1.774098   \n12359                                          1.764239   \n\n       Beef Meat Consumption (kg/capita/year)  \\\n0                                    4.889479   \n1                                    5.106605   \n2                                    5.160862   \n3                                    5.132955   \n4                                    5.094256   \n...                                       ...   \n12355                               43.684890   \n12356                               41.403670   \n12357                               40.988712   \n12358                               40.975937   \n12359                               40.122208   \n\n       Pig Meat Consumption (kg/capita/year)  \\\n0                                        NaN   \n1                                        NaN   \n2                                        NaN   \n3                                        NaN   \n4                                        NaN   \n...                                      ...   \n12355                               1.572656   \n12356                               0.743143   \n12357                               0.517995   \n12358                               0.686748   \n12359                               0.644991   \n\n       Poultry Meat Consumption (kg/capita/year)  \\\n0                                       0.641744   \n1                                       0.672726   \n2                                       0.673156   \n3                                       0.683714   \n4                                       0.714625   \n...                                          ...   \n12355                                   5.174232   \n12356                                   5.086185   \n12357                                   4.383768   \n12358                                   4.473397   \n12359                                   4.382142   \n\n       Total Meat Consumption(kg/capita/year)  \n0                                   14.729554  \n1                                   14.749017  \n2                                   15.176605  \n3                                   15.368251  \n4                                   15.711545  \n...                                       ...  \n12355                               54.470204  \n12356                               51.537435  \n12357                               50.101578  \n12358                               50.285182  \n12359                               49.246928  \n\n[9892 rows x 8 columns]",
      "text/html": "<div>\n<style scoped>\n    .dataframe tbody tr th:only-of-type {\n        vertical-align: middle;\n    }\n\n    .dataframe tbody tr th {\n        vertical-align: top;\n    }\n\n    .dataframe thead th {\n        text-align: right;\n    }\n</style>\n<table border=\"1\" class=\"dataframe\">\n  <thead>\n    <tr style=\"text-align: right;\">\n      <th></th>\n      <th>Country</th>\n      <th>Year</th>\n      <th>Other Meat Consumption (kg/capita/year)</th>\n      <th>Sheep and Goat Meat Consumption (kg/capita/year)</th>\n      <th>Beef Meat Consumption (kg/capita/year)</th>\n      <th>Pig Meat Consumption (kg/capita/year)</th>\n      <th>Poultry Meat Consumption (kg/capita/year)</th>\n      <th>Total Meat Consumption(kg/capita/year)</th>\n    </tr>\n  </thead>\n  <tbody>\n    <tr>\n      <th>0</th>\n      <td>Afghanistan</td>\n      <td>1961</td>\n      <td>0.865845</td>\n      <td>8.332486</td>\n      <td>4.889479</td>\n      <td>NaN</td>\n      <td>0.641744</td>\n      <td>14.729554</td>\n    </tr>\n    <tr>\n      <th>1</th>\n      <td>Afghanistan</td>\n      <td>1962</td>\n      <td>0.896969</td>\n      <td>8.072717</td>\n      <td>5.106605</td>\n      <td>NaN</td>\n      <td>0.672726</td>\n      <td>14.749017</td>\n    </tr>\n    <tr>\n      <th>2</th>\n      <td>Afghanistan</td>\n      <td>1963</td>\n      <td>1.091328</td>\n      <td>8.251259</td>\n      <td>5.160862</td>\n      <td>NaN</td>\n      <td>0.673156</td>\n      <td>15.176605</td>\n    </tr>\n    <tr>\n      <th>3</th>\n      <td>Afghanistan</td>\n      <td>1964</td>\n      <td>1.030673</td>\n      <td>8.520909</td>\n      <td>5.132955</td>\n      <td>NaN</td>\n      <td>0.683714</td>\n      <td>15.368251</td>\n    </tr>\n    <tr>\n      <th>4</th>\n      <td>Afghanistan</td>\n      <td>1965</td>\n      <td>1.082147</td>\n      <td>8.820517</td>\n      <td>5.094256</td>\n      <td>NaN</td>\n      <td>0.714625</td>\n      <td>15.711545</td>\n    </tr>\n    <tr>\n      <th>...</th>\n      <td>...</td>\n      <td>...</td>\n      <td>...</td>\n      <td>...</td>\n      <td>...</td>\n      <td>...</td>\n      <td>...</td>\n      <td>...</td>\n    </tr>\n    <tr>\n      <th>12355</th>\n      <td>Zimbabwe</td>\n      <td>2016</td>\n      <td>2.601678</td>\n      <td>1.436748</td>\n      <td>43.684890</td>\n      <td>1.572656</td>\n      <td>5.174232</td>\n      <td>54.470204</td>\n    </tr>\n    <tr>\n      <th>12356</th>\n      <td>Zimbabwe</td>\n      <td>2017</td>\n      <td>2.499662</td>\n      <td>1.804775</td>\n      <td>41.403670</td>\n      <td>0.743143</td>\n      <td>5.086185</td>\n      <td>51.537435</td>\n    </tr>\n    <tr>\n      <th>12357</th>\n      <td>Zimbabwe</td>\n      <td>2018</td>\n      <td>2.388530</td>\n      <td>1.822573</td>\n      <td>40.988712</td>\n      <td>0.517995</td>\n      <td>4.383768</td>\n      <td>50.101578</td>\n    </tr>\n    <tr>\n      <th>12358</th>\n      <td>Zimbabwe</td>\n      <td>2019</td>\n      <td>2.375002</td>\n      <td>1.774098</td>\n      <td>40.975937</td>\n      <td>0.686748</td>\n      <td>4.473397</td>\n      <td>50.285182</td>\n    </tr>\n    <tr>\n      <th>12359</th>\n      <td>Zimbabwe</td>\n      <td>2020</td>\n      <td>2.333349</td>\n      <td>1.764239</td>\n      <td>40.122208</td>\n      <td>0.644991</td>\n      <td>4.382142</td>\n      <td>49.246928</td>\n    </tr>\n  </tbody>\n</table>\n<p>9892 rows × 8 columns</p>\n</div>"
     },
     "execution_count": 53,
     "metadata": {},
     "output_type": "execute_result"
    }
   ],
   "source": [
    "consumption_data['Total Meat Consumption(kg/capita/year)'] = consumption_data[[\n",
    "    'Other Meat Consumption (kg/capita/year)', 'Sheep and Goat Meat Consumption (kg/capita/year)', 'Beef Meat Consumption (kg/capita/year)', 'Pig Meat Consumption (kg/capita/year)', 'Poultry Meat Consumption (kg/capita/year)']].sum(\n",
    "    axis=1)\n",
    "\n",
    "consumption_data"
   ],
   "metadata": {
    "collapsed": false,
    "ExecuteTime": {
     "end_time": "2023-11-26T14:55:31.945767800Z",
     "start_time": "2023-11-26T14:55:31.917123900Z"
    }
   },
   "id": "a830e426029df187"
  },
  {
   "cell_type": "code",
   "execution_count": 54,
   "outputs": [
    {
     "name": "stdout",
     "output_type": "stream",
     "text": [
      "<class 'pandas.core.frame.DataFrame'>\n",
      "Index: 9892 entries, 0 to 12359\n",
      "Data columns (total 8 columns):\n",
      " #   Column                                            Non-Null Count  Dtype  \n",
      "---  ------                                            --------------  -----  \n",
      " 0   Country                                           9892 non-null   object \n",
      " 1   Year                                              9892 non-null   int64  \n",
      " 2   Other Meat Consumption (kg/capita/year)           9889 non-null   float64\n",
      " 3   Sheep and Goat Meat Consumption (kg/capita/year)  9892 non-null   float64\n",
      " 4   Beef Meat Consumption (kg/capita/year)            9892 non-null   float64\n",
      " 5   Pig Meat Consumption (kg/capita/year)             9613 non-null   float64\n",
      " 6   Poultry Meat Consumption (kg/capita/year)         9892 non-null   float64\n",
      " 7   Total Meat Consumption(kg/capita/year)            9892 non-null   float64\n",
      "dtypes: float64(6), int64(1), object(1)\n",
      "memory usage: 695.5+ KB\n"
     ]
    }
   ],
   "source": [
    "consumption_data.info()"
   ],
   "metadata": {
    "collapsed": false,
    "ExecuteTime": {
     "end_time": "2023-11-26T14:55:47.991918400Z",
     "start_time": "2023-11-26T14:55:47.974412300Z"
    }
   },
   "id": "2fdabd774d41d35b"
  },
  {
   "cell_type": "markdown",
   "source": [
    "## Merge Production and Consumption Datasets"
   ],
   "metadata": {
    "collapsed": false
   },
   "id": "cda90464a48b0d73"
  },
  {
   "cell_type": "code",
   "execution_count": 55,
   "outputs": [],
   "source": [
    "# Asumiendo que 'production_data' es tu DataFrame de producción de carne\n",
    "# y 'consumption_data' es tu DataFrame de consumo de carne con la nueva columna total añadida\n",
    "\n",
    "# Uniendo los dos conjuntos de datos\n",
    "combined_data = pd.merge(production_data, consumption_data, on=['Country', 'Year'], how='outer')\n",
    "\n",
    "# Guardando el conjunto de datos combinado en un archivo CSV\n",
    "combined_data.to_csv(\"../data/processed/combined_meat_data.csv\", index=False)"
   ],
   "metadata": {
    "collapsed": false,
    "ExecuteTime": {
     "end_time": "2023-11-26T14:58:11.666144300Z",
     "start_time": "2023-11-26T14:58:11.544200200Z"
    }
   },
   "id": "310313ea91eef71a"
  },
  {
   "cell_type": "code",
   "execution_count": 56,
   "outputs": [
    {
     "data": {
      "text/plain": "                    Country  Year  Game Meat Production (tonnes)  \\\n0               Afghanistan  1961                         4000.0   \n1               Afghanistan  1962                         4000.0   \n2               Afghanistan  1963                         5000.0   \n3               Afghanistan  1964                         5000.0   \n4               Afghanistan  1965                         6000.0   \n...                     ...   ...                            ...   \n11576  Netherlands Antilles  2005                            NaN   \n11577  Netherlands Antilles  2006                            NaN   \n11578  Netherlands Antilles  2007                            NaN   \n11579  Netherlands Antilles  2008                            NaN   \n11580  Netherlands Antilles  2009                            NaN   \n\n       Horse Meat Production (tonnes)  Camel Meat Production (tonnes)  \\\n0                                 NaN                         3600.00   \n1                                 NaN                         4030.74   \n2                                 NaN                         5031.36   \n3                                 NaN                         4680.00   \n4                                 NaN                         4320.00   \n...                               ...                             ...   \n11576                             NaN                             NaN   \n11577                             NaN                             NaN   \n11578                             NaN                             NaN   \n11579                             NaN                             NaN   \n11580                             NaN                             NaN   \n\n       Sheep and Goat Meat Production (tonnes)  \\\n0                                      73220.0   \n1                                      72375.0   \n2                                      75530.0   \n3                                      79750.0   \n4                                      84375.0   \n...                                        ...   \n11576                                      NaN   \n11577                                      NaN   \n11578                                      NaN   \n11579                                      NaN   \n11580                                      NaN   \n\n       Beef and Buffalo Meat Production (tonnes)  Pigmeat Production (tonnes)  \\\n0                                        43000.0                          NaN   \n1                                        45800.0                          NaN   \n2                                        47250.0                          NaN   \n3                                        48000.0                          NaN   \n4                                        48700.0                          NaN   \n...                                          ...                          ...   \n11576                                        NaN                          NaN   \n11577                                        NaN                          NaN   \n11578                                        NaN                          NaN   \n11579                                        NaN                          NaN   \n11580                                        NaN                          NaN   \n\n       Poultry Meat Production (tonnes)  Total Meat Production (tonnes)  \\\n0                                5600.0                       129420.00   \n1                                6000.0                       132205.74   \n2                                6160.0                       138971.36   \n3                                6400.0                       143830.00   \n4                                6800.0                       150195.00   \n...                                 ...                             ...   \n11576                               NaN                             NaN   \n11577                               NaN                             NaN   \n11578                               NaN                             NaN   \n11579                               NaN                             NaN   \n11580                               NaN                             NaN   \n\n       Other Meat Consumption (kg/capita/year)  \\\n0                                     0.865845   \n1                                     0.896969   \n2                                     1.091328   \n3                                     1.030673   \n4                                     1.082147   \n...                                        ...   \n11576                                 0.395924   \n11577                                 0.442357   \n11578                                 0.355799   \n11579                                 0.134127   \n11580                                 0.346670   \n\n       Sheep and Goat Meat Consumption (kg/capita/year)  \\\n0                                              8.332486   \n1                                              8.072717   \n2                                              8.251259   \n3                                              8.520909   \n4                                              8.820517   \n...                                                 ...   \n11576                                          1.583695   \n11577                                          1.491373   \n11578                                          1.302479   \n11579                                          1.673398   \n11580                                          1.791129   \n\n       Beef Meat Consumption (kg/capita/year)  \\\n0                                    4.889479   \n1                                    5.106605   \n2                                    5.160862   \n3                                    5.132955   \n4                                    5.094256   \n...                                       ...   \n11576                                2.362974   \n11577                                2.919553   \n11578                                2.299987   \n11579                                2.146037   \n11580                                3.164970   \n\n       Pig Meat Consumption (kg/capita/year)  \\\n0                                        NaN   \n1                                        NaN   \n2                                        NaN   \n3                                        NaN   \n4                                        NaN   \n...                                      ...   \n11576                              12.694702   \n11577                              12.215361   \n11578                              13.024789   \n11579                              13.508534   \n11580                              15.349783   \n\n       Poultry Meat Consumption (kg/capita/year)  \\\n0                                       0.641744   \n1                                       0.672726   \n2                                       0.673156   \n3                                       0.683714   \n4                                       0.714625   \n...                                          ...   \n11576                                  40.013447   \n11577                                  37.012604   \n11578                                  34.849250   \n11579                                  39.912450   \n11580                                  40.560406   \n\n       Total Meat Consumption(kg/capita/year)  \n0                                   14.729554  \n1                                   14.749017  \n2                                   15.176605  \n3                                   15.368251  \n4                                   15.711545  \n...                                       ...  \n11576                               57.050742  \n11577                               54.081248  \n11578                               51.832304  \n11579                               57.374545  \n11580                               61.212958  \n\n[11581 rows x 16 columns]",
      "text/html": "<div>\n<style scoped>\n    .dataframe tbody tr th:only-of-type {\n        vertical-align: middle;\n    }\n\n    .dataframe tbody tr th {\n        vertical-align: top;\n    }\n\n    .dataframe thead th {\n        text-align: right;\n    }\n</style>\n<table border=\"1\" class=\"dataframe\">\n  <thead>\n    <tr style=\"text-align: right;\">\n      <th></th>\n      <th>Country</th>\n      <th>Year</th>\n      <th>Game Meat Production (tonnes)</th>\n      <th>Horse Meat Production (tonnes)</th>\n      <th>Camel Meat Production (tonnes)</th>\n      <th>Sheep and Goat Meat Production (tonnes)</th>\n      <th>Beef and Buffalo Meat Production (tonnes)</th>\n      <th>Pigmeat Production (tonnes)</th>\n      <th>Poultry Meat Production (tonnes)</th>\n      <th>Total Meat Production (tonnes)</th>\n      <th>Other Meat Consumption (kg/capita/year)</th>\n      <th>Sheep and Goat Meat Consumption (kg/capita/year)</th>\n      <th>Beef Meat Consumption (kg/capita/year)</th>\n      <th>Pig Meat Consumption (kg/capita/year)</th>\n      <th>Poultry Meat Consumption (kg/capita/year)</th>\n      <th>Total Meat Consumption(kg/capita/year)</th>\n    </tr>\n  </thead>\n  <tbody>\n    <tr>\n      <th>0</th>\n      <td>Afghanistan</td>\n      <td>1961</td>\n      <td>4000.0</td>\n      <td>NaN</td>\n      <td>3600.00</td>\n      <td>73220.0</td>\n      <td>43000.0</td>\n      <td>NaN</td>\n      <td>5600.0</td>\n      <td>129420.00</td>\n      <td>0.865845</td>\n      <td>8.332486</td>\n      <td>4.889479</td>\n      <td>NaN</td>\n      <td>0.641744</td>\n      <td>14.729554</td>\n    </tr>\n    <tr>\n      <th>1</th>\n      <td>Afghanistan</td>\n      <td>1962</td>\n      <td>4000.0</td>\n      <td>NaN</td>\n      <td>4030.74</td>\n      <td>72375.0</td>\n      <td>45800.0</td>\n      <td>NaN</td>\n      <td>6000.0</td>\n      <td>132205.74</td>\n      <td>0.896969</td>\n      <td>8.072717</td>\n      <td>5.106605</td>\n      <td>NaN</td>\n      <td>0.672726</td>\n      <td>14.749017</td>\n    </tr>\n    <tr>\n      <th>2</th>\n      <td>Afghanistan</td>\n      <td>1963</td>\n      <td>5000.0</td>\n      <td>NaN</td>\n      <td>5031.36</td>\n      <td>75530.0</td>\n      <td>47250.0</td>\n      <td>NaN</td>\n      <td>6160.0</td>\n      <td>138971.36</td>\n      <td>1.091328</td>\n      <td>8.251259</td>\n      <td>5.160862</td>\n      <td>NaN</td>\n      <td>0.673156</td>\n      <td>15.176605</td>\n    </tr>\n    <tr>\n      <th>3</th>\n      <td>Afghanistan</td>\n      <td>1964</td>\n      <td>5000.0</td>\n      <td>NaN</td>\n      <td>4680.00</td>\n      <td>79750.0</td>\n      <td>48000.0</td>\n      <td>NaN</td>\n      <td>6400.0</td>\n      <td>143830.00</td>\n      <td>1.030673</td>\n      <td>8.520909</td>\n      <td>5.132955</td>\n      <td>NaN</td>\n      <td>0.683714</td>\n      <td>15.368251</td>\n    </tr>\n    <tr>\n      <th>4</th>\n      <td>Afghanistan</td>\n      <td>1965</td>\n      <td>6000.0</td>\n      <td>NaN</td>\n      <td>4320.00</td>\n      <td>84375.0</td>\n      <td>48700.0</td>\n      <td>NaN</td>\n      <td>6800.0</td>\n      <td>150195.00</td>\n      <td>1.082147</td>\n      <td>8.820517</td>\n      <td>5.094256</td>\n      <td>NaN</td>\n      <td>0.714625</td>\n      <td>15.711545</td>\n    </tr>\n    <tr>\n      <th>...</th>\n      <td>...</td>\n      <td>...</td>\n      <td>...</td>\n      <td>...</td>\n      <td>...</td>\n      <td>...</td>\n      <td>...</td>\n      <td>...</td>\n      <td>...</td>\n      <td>...</td>\n      <td>...</td>\n      <td>...</td>\n      <td>...</td>\n      <td>...</td>\n      <td>...</td>\n      <td>...</td>\n    </tr>\n    <tr>\n      <th>11576</th>\n      <td>Netherlands Antilles</td>\n      <td>2005</td>\n      <td>NaN</td>\n      <td>NaN</td>\n      <td>NaN</td>\n      <td>NaN</td>\n      <td>NaN</td>\n      <td>NaN</td>\n      <td>NaN</td>\n      <td>NaN</td>\n      <td>0.395924</td>\n      <td>1.583695</td>\n      <td>2.362974</td>\n      <td>12.694702</td>\n      <td>40.013447</td>\n      <td>57.050742</td>\n    </tr>\n    <tr>\n      <th>11577</th>\n      <td>Netherlands Antilles</td>\n      <td>2006</td>\n      <td>NaN</td>\n      <td>NaN</td>\n      <td>NaN</td>\n      <td>NaN</td>\n      <td>NaN</td>\n      <td>NaN</td>\n      <td>NaN</td>\n      <td>NaN</td>\n      <td>0.442357</td>\n      <td>1.491373</td>\n      <td>2.919553</td>\n      <td>12.215361</td>\n      <td>37.012604</td>\n      <td>54.081248</td>\n    </tr>\n    <tr>\n      <th>11578</th>\n      <td>Netherlands Antilles</td>\n      <td>2007</td>\n      <td>NaN</td>\n      <td>NaN</td>\n      <td>NaN</td>\n      <td>NaN</td>\n      <td>NaN</td>\n      <td>NaN</td>\n      <td>NaN</td>\n      <td>NaN</td>\n      <td>0.355799</td>\n      <td>1.302479</td>\n      <td>2.299987</td>\n      <td>13.024789</td>\n      <td>34.849250</td>\n      <td>51.832304</td>\n    </tr>\n    <tr>\n      <th>11579</th>\n      <td>Netherlands Antilles</td>\n      <td>2008</td>\n      <td>NaN</td>\n      <td>NaN</td>\n      <td>NaN</td>\n      <td>NaN</td>\n      <td>NaN</td>\n      <td>NaN</td>\n      <td>NaN</td>\n      <td>NaN</td>\n      <td>0.134127</td>\n      <td>1.673398</td>\n      <td>2.146037</td>\n      <td>13.508534</td>\n      <td>39.912450</td>\n      <td>57.374545</td>\n    </tr>\n    <tr>\n      <th>11580</th>\n      <td>Netherlands Antilles</td>\n      <td>2009</td>\n      <td>NaN</td>\n      <td>NaN</td>\n      <td>NaN</td>\n      <td>NaN</td>\n      <td>NaN</td>\n      <td>NaN</td>\n      <td>NaN</td>\n      <td>NaN</td>\n      <td>0.346670</td>\n      <td>1.791129</td>\n      <td>3.164970</td>\n      <td>15.349783</td>\n      <td>40.560406</td>\n      <td>61.212958</td>\n    </tr>\n  </tbody>\n</table>\n<p>11581 rows × 16 columns</p>\n</div>"
     },
     "execution_count": 56,
     "metadata": {},
     "output_type": "execute_result"
    }
   ],
   "source": [
    "combined_data"
   ],
   "metadata": {
    "collapsed": false,
    "ExecuteTime": {
     "end_time": "2023-11-26T14:58:34.411916600Z",
     "start_time": "2023-11-26T14:58:34.383351300Z"
    }
   },
   "id": "4eec7db8f65f9362"
  }
 ],
 "metadata": {
  "kernelspec": {
   "display_name": "Python 3",
   "language": "python",
   "name": "python3"
  },
  "language_info": {
   "codemirror_mode": {
    "name": "ipython",
    "version": 2
   },
   "file_extension": ".py",
   "mimetype": "text/x-python",
   "name": "python",
   "nbconvert_exporter": "python",
   "pygments_lexer": "ipython2",
   "version": "2.7.6"
  }
 },
 "nbformat": 4,
 "nbformat_minor": 5
}
